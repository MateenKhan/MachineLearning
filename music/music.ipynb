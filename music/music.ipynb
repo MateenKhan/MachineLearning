{
 "cells": [
  {
   "cell_type": "code",
   "execution_count": 172,
   "metadata": {},
   "outputs": [],
   "source": [
    "import pandas as pd\n",
    "from sklearn.tree import DecisionTreeClassifier\n",
    "from sklearn.model_selection import train_test_split\n",
    "from sklearn.metrics import accuracy_score\n",
    "from sklearn.externals import joblib\n",
    "from sklearn import tree\n",
    "\n",
    "music_input = pd.read_csv('music.csv')\n",
    "X = music_input.drop(columns=['genre']);\n",
    "y = music_input['genre']\n",
    "# X_train, X_test, y_train, y_test = train_test_split(X,y,test_size=0.8);\n",
    "model = DecisionTreeClassifier()\n",
    "model.fit(X,y)\n",
    "tree.export_graphviz(model,out_file='music-recommender.dot',feature_names=['age','gender'],\n",
    "                    class_names=sorted(y.unique()),label='all',rounded=True,filled=True)\n",
    "# predections = model.predict([[21,1]]);\n",
    "# predections\n",
    "# joblib.dump(model,'music-recommender.joblib')\n",
    "# predections = model.predict(X_test);\n",
    "\n",
    "# score = accuracy_score(y_test,predections)\n",
    "# score\n",
    "\n",
    "# model = joblib.load('music-recommender.joblib');\n",
    "# predections = model.predict([[21,1]]);\n",
    "# predections"
   ]
  },
  {
   "cell_type": "code",
   "execution_count": null,
   "metadata": {},
   "outputs": [],
   "source": []
  }
 ],
 "metadata": {
  "kernelspec": {
   "display_name": "Python 3",
   "language": "python",
   "name": "python3"
  },
  "language_info": {
   "codemirror_mode": {
    "name": "ipython",
    "version": 3
   },
   "file_extension": ".py",
   "mimetype": "text/x-python",
   "name": "python",
   "nbconvert_exporter": "python",
   "pygments_lexer": "ipython3",
   "version": "3.7.3"
  }
 },
 "nbformat": 4,
 "nbformat_minor": 2
}
